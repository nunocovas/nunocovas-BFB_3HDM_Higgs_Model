{
 "cells": [
  {
   "cell_type": "markdown",
   "metadata": {},
   "source": [
    "Adjustable Parameters"
   ]
  },
  {
   "cell_type": "code",
   "execution_count": null,
   "metadata": {},
   "outputs": [],
   "source": [
    "#numerical tolerance\n",
    "tol = 1e-4\n",
    "\n",
    "#number of restarts\n",
    "res = 5\n",
    "\n",
    "#name of the input txt file:\n",
    "txt = \"input.txt\"\n",
    "\n",
    "#name of the outout txt file:\n",
    "output = \"BFB.txt\""
   ]
  },
  {
   "cell_type": "markdown",
   "metadata": {},
   "source": [
    "Code"
   ]
  },
  {
   "cell_type": "code",
   "execution_count": 1,
   "metadata": {
    "execution": {
     "iopub.execute_input": "2024-04-13T18:31:38.853733Z",
     "iopub.status.busy": "2024-04-13T18:31:38.849841Z",
     "iopub.status.idle": "2024-04-13T18:31:41.440635Z",
     "shell.execute_reply": "2024-04-13T18:31:41.438803Z",
     "shell.execute_reply.started": "2024-04-13T18:31:38.853337Z"
    },
    "tags": []
   },
   "outputs": [],
   "source": [
    "# imports\n",
    "import math\n",
    "import numpy as np\n",
    "from math import sin as s\n",
    "from math import cos as c\n",
    "from math import pi as pi\n",
    "\n",
    "from numpy import exp\n",
    "from numpy.random import default_rng\n",
    "\n",
    "from scipy.optimize import minimize\n",
    "\n",
    "from joblib import Parallel, delayed\n",
    "\n",
    "from numba import njit"
   ]
  },
  {
   "cell_type": "markdown",
   "metadata": {
    "execution": {
     "iopub.execute_input": "2024-04-09T21:09:05.691935Z",
     "iopub.status.busy": "2024-04-09T21:09:05.691464Z",
     "iopub.status.idle": "2024-04-09T21:09:05.707894Z",
     "shell.execute_reply": "2024-04-09T21:09:05.699762Z",
     "shell.execute_reply.started": "2024-04-09T21:09:05.691887Z"
    }
   },
   "source": [
    "Defines the potential, in 4 different gauges: "
   ]
  },
  {
   "cell_type": "code",
   "execution_count": 3,
   "metadata": {
    "execution": {
     "iopub.execute_input": "2024-04-09T21:09:05.713351Z",
     "iopub.status.busy": "2024-04-09T21:09:05.712769Z",
     "iopub.status.idle": "2024-04-09T21:09:05.874620Z",
     "shell.execute_reply": "2024-04-09T21:09:05.872809Z",
     "shell.execute_reply.started": "2024-04-09T21:09:05.713307Z"
    }
   },
   "outputs": [],
   "source": [
    "@njit(cache = True)\n",
    "def v(x,l):\n",
    "    t,a,b,y,d,e,n = x[0], x[1], x[2], x[3], x[4], x[5], x[6]\n",
    "    \n",
    "    phi1 = c(t)**2 + (s(t)*c(a))**2\n",
    "    phi2 = (s(t)*s(a))**2*(c(b)**2 + (s(b)*c(y))**2)\n",
    "    phi3 = (s(t)*s(a)*s(b)*s(y))**2\n",
    "    phi12_R = 1/2*s(t)**2*s(2*a)*c(b)\n",
    "    phi12_I = 1/2*s(t)**2*s(2*a)*s(b)*c(y)\n",
    "    phi13_R = 1/2*(s(b)*s(y)*(s(2*t)*s(a)*c(d) + s(t)**2*s(2*a)*s(d)*s(e)*c(n)))\n",
    "    phi13_I = 1/2*(s(b)*s(y)*s(d)*(s(2*t)*s(a)*c(e) + s(t)**2*s(2*a)*s(e)*s(n)))\n",
    "    phi23_R = 1/2*(s(t)*s(a))**2*s(d)*s(e)*(s(2*b)*s(y)*c(n) + s(b)**2*s(2*y)*s(n))\n",
    "    phi23_I = 1/2*(s(t)*s(a))**2*s(d)*s(e)*(s(2*b)*s(y)*s(n) - s(b)**2*s(2*y)*c(n))\n",
    "    \n",
    "    \n",
    "    g1 = 1/2*l[0]*phi1**2 + 1/2*l[1]*phi2**2 + 1/2*l[2]*phi3**2 + l[3]*phi1*phi2 + l[4]*phi1*phi3 + l[5]*phi2*phi3\n",
    "    g2 = l[6]*(phi12_R**2 + phi12_I**2) + l[7]*(phi13_R**2 + phi13_I**2) + l[8]*(phi23_R**2 + phi23_I**2)\n",
    "    g3 = (l[9]*(phi12_R**2 - phi12_I**2) - 2*l[10]*phi12_R*phi12_I) + (l[11]*(phi13_R**2 - phi13_I**2) - 2*l[12]*phi13_R*phi13_I) + (l[13]*(phi23_R**2 - phi23_I**2) - 2*l[14]*phi23_R*phi23_I)\n",
    "    g4 = 2*(l[15]*phi12_R - l[16]*phi12_I)*phi1 + 2*(l[17]*phi12_R - l[18]*phi12_I)*phi2 + 2*(l[19]*phi12_R - l[20]*phi12_I)*phi3 \n",
    "    g5 = 2*(l[21]*phi13_R - l[22]*phi13_I)*phi1 + 2*(l[23]*phi13_R - l[24]*phi13_I)*phi2 + 2*(l[25]*phi13_R - l[26]*phi13_I)*phi3 \n",
    "    g6 = 2*(l[27]*phi23_R - l[28]*phi23_I)*phi1 + 2*(l[29]*phi23_R - l[30]*phi23_I)*phi2 + 2*(l[31]*phi23_R - l[32]*phi23_I)*phi3 \n",
    "    g7 = 2*(l[33]*(phi12_R*phi13_R - phi12_I*phi13_I) - l[34]*(phi12_R*phi13_I + phi12_I*phi13_R )) + 2*(l[35]*(phi23_R*phi12_R + phi23_I*phi12_I) - l[36]*(-phi23_R*phi12_I + phi23_I*phi12_R ))\n",
    "    g8 = 2*(l[37]*(phi13_R*phi23_R - phi13_I*phi23_I) + l[38]*(phi13_R*phi23_I + phi13_I*phi23_R )) + 2*(l[39]*(phi12_R*phi13_R + phi12_I*phi13_I) - l[40]*(-phi12_R*phi13_I + phi12_I*phi13_R ))\n",
    "    g9 = 2*(l[41]*(phi23_R*phi12_R - phi23_I*phi12_I) - l[42]*(phi23_R*phi12_I + phi23_I*phi12_R )) + 2*(l[43]*(phi13_R*phi23_R + phi13_I*phi23_I) - l[44]*(phi13_R*phi23_I - phi13_I*phi23_R))\n",
    "    \n",
    "    \n",
    "    return g1+g2+g3+g4+g5+g6+g7+g8+g9"
   ]
  },
  {
   "cell_type": "code",
   "execution_count": 4,
   "metadata": {
    "execution": {
     "iopub.execute_input": "2024-04-09T21:09:05.876985Z",
     "iopub.status.busy": "2024-04-09T21:09:05.876517Z",
     "iopub.status.idle": "2024-04-09T21:09:05.934136Z",
     "shell.execute_reply": "2024-04-09T21:09:05.932401Z",
     "shell.execute_reply.started": "2024-04-09T21:09:05.876938Z"
    }
   },
   "outputs": [],
   "source": [
    "@njit(cache = True)\n",
    "def v2(x,l):\n",
    "    t,a,b,y,d,e,n = x[0], x[1], x[2], x[3], x[4], x[5], x[6]\n",
    "    \n",
    "    phi1 = (s(t)*s(a)*s(b)*s(y))**2\n",
    "    phi2 = c(t)**2 + (s(t)*c(a))**2\n",
    "    phi3 = (s(t)*s(a))**2*(c(b)**2 + (s(b)*c(y))**2)\n",
    "    phi12_R =  1/2*(s(b)*s(y)*(s(2*t)*s(a)*c(d) + s(t)**2*s(2*a)*s(d)*s(e)*c(n)))\n",
    "    phi12_I = -1/2*(s(b)*s(y)*s(d)*(s(2*t)*s(a)*c(e) + s(t)**2*s(2*a)*s(e)*s(n)))\n",
    "    phi13_R = 1/2*(s(t)*s(a))**2*s(d)*s(e)*(s(2*b)*s(y)*c(n) + s(b)**2*s(2*y)*s(n))\n",
    "    phi13_I = 1/2*(s(t)*s(a))**2*s(d)*s(e)*(s(2*b)*s(y)*s(n) - s(b)**2*s(2*y)*c(n))\n",
    "    phi23_R = 1/2*s(t)**2*s(2*a)*c(b)\n",
    "    phi23_I = 1/2*s(t)**2*s(2*a)*s(b)*c(y)\n",
    "    \n",
    "    \n",
    "    g1 = 1/2*l[0]*phi1**2 + 1/2*l[1]*phi2**2 + 1/2*l[2]*phi3**2 + l[3]*phi1*phi2 + l[4]*phi1*phi3 + l[5]*phi2*phi3\n",
    "    g2 = l[6]*(phi12_R**2 + phi12_I**2) + l[7]*(phi13_R**2 + phi13_I**2) + l[8]*(phi23_R**2 + phi23_I**2)\n",
    "    g3 = (l[9]*(phi12_R**2 - phi12_I**2) - 2*l[10]*phi12_R*phi12_I) + (l[11]*(phi13_R**2 - phi13_I**2) - 2*l[12]*phi13_R*phi13_I) + (l[13]*(phi23_R**2 - phi23_I**2) - 2*l[14]*phi23_R*phi23_I)\n",
    "    g4 = 2*(l[15]*phi12_R - l[16]*phi12_I)*phi1 + 2*(l[17]*phi12_R - l[18]*phi12_I)*phi2 + 2*(l[19]*phi12_R - l[20]*phi12_I)*phi3 \n",
    "    g5 = 2*(l[21]*phi13_R - l[22]*phi13_I)*phi1 + 2*(l[23]*phi13_R - l[24]*phi13_I)*phi2 + 2*(l[25]*phi13_R - l[26]*phi13_I)*phi3 \n",
    "    g6 = 2*(l[27]*phi23_R - l[28]*phi23_I)*phi1 + 2*(l[29]*phi23_R - l[30]*phi23_I)*phi2 + 2*(l[31]*phi23_R - l[32]*phi23_I)*phi3 \n",
    "    g7 = 2*(l[33]*(phi12_R*phi13_R - phi12_I*phi13_I) - l[34]*(phi12_R*phi13_I + phi12_I*phi13_R )) + 2*(l[35]*(phi23_R*phi12_R + phi23_I*phi12_I) - l[36]*(-phi23_R*phi12_I + phi23_I*phi12_R ))\n",
    "    g8 = 2*(l[37]*(phi13_R*phi23_R - phi13_I*phi23_I) + l[38]*(phi13_R*phi23_I + phi13_I*phi23_R )) + 2*(l[39]*(phi12_R*phi13_R + phi12_I*phi13_I) - l[40]*(-phi12_R*phi13_I + phi12_I*phi13_R ))\n",
    "    g9 = 2*(l[41]*(phi23_R*phi12_R - phi23_I*phi12_I) - l[42]*(phi23_R*phi12_I + phi23_I*phi12_R )) + 2*(l[43]*(phi13_R*phi23_R + phi13_I*phi23_I) - l[44]*(phi13_R*phi23_I - phi13_I*phi23_R))\n",
    "    \n",
    "    \n",
    "    return g1+g2+g3+g4+g5+g6+g7+g8+g9"
   ]
  },
  {
   "cell_type": "code",
   "execution_count": 5,
   "metadata": {
    "execution": {
     "iopub.execute_input": "2024-04-09T21:09:05.936451Z",
     "iopub.status.busy": "2024-04-09T21:09:05.936060Z",
     "iopub.status.idle": "2024-04-09T21:09:05.986996Z",
     "shell.execute_reply": "2024-04-09T21:09:05.985256Z",
     "shell.execute_reply.started": "2024-04-09T21:09:05.936406Z"
    }
   },
   "outputs": [],
   "source": [
    "@njit(cache = True)\n",
    "def v3(x,l):\n",
    "    t,a,b,y,d,e,n = x[0], x[1], x[2], x[3], x[4], x[5], x[6]\n",
    "    \n",
    "    phi1 = (s(t)*s(a)*s(b)*s(y))**2\n",
    "    phi2 = (s(t)*s(a))**2*(c(b)**2 + (s(b)*c(y))**2) \n",
    "    phi3 = c(t)**2 + (s(t)*c(a))**2\n",
    "    phi12_R = 1/2*(s(t)*s(a))**2*s(d)*s(e)*(s(2*b)*s(y)*c(n) + s(b)**2*s(2*y)*s(n))\n",
    "    phi12_I = 1/2*(s(t)*s(a))**2*s(d)*s(e)*(s(2*b)*s(y)*s(n) - s(b)**2*s(2*y)*c(n))\n",
    "    phi13_R = 1/2*(s(b)*s(y)*(s(2*t)*s(a)*c(d) + s(t)**2*s(2*a)*s(d)*s(e)*c(n)))\n",
    "    phi13_I = -1/2*(s(b)*s(y)*s(d)*(s(2*t)*s(a)*c(e) + s(t)**2*s(2*a)*s(e)*s(n))) \n",
    "    phi23_R = 1/2*s(t)**2*s(2*a)*c(b)\n",
    "    phi23_I = -1/2*s(t)**2*s(2*a)*s(b)*c(y)\n",
    "    \n",
    "    \n",
    "    g1 = 1/2*l[0]*phi1**2 + 1/2*l[1]*phi2**2 + 1/2*l[2]*phi3**2 + l[3]*phi1*phi2 + l[4]*phi1*phi3 + l[5]*phi2*phi3\n",
    "    g2 = l[6]*(phi12_R**2 + phi12_I**2) + l[7]*(phi13_R**2 + phi13_I**2) + l[8]*(phi23_R**2 + phi23_I**2)\n",
    "    g3 = (l[9]*(phi12_R**2 - phi12_I**2) - 2*l[10]*phi12_R*phi12_I) + (l[11]*(phi13_R**2 - phi13_I**2) - 2*l[12]*phi13_R*phi13_I) + (l[13]*(phi23_R**2 - phi23_I**2) - 2*l[14]*phi23_R*phi23_I)\n",
    "    g4 = 2*(l[15]*phi12_R - l[16]*phi12_I)*phi1 + 2*(l[17]*phi12_R - l[18]*phi12_I)*phi2 + 2*(l[19]*phi12_R - l[20]*phi12_I)*phi3 \n",
    "    g5 = 2*(l[21]*phi13_R - l[22]*phi13_I)*phi1 + 2*(l[23]*phi13_R - l[24]*phi13_I)*phi2 + 2*(l[25]*phi13_R - l[26]*phi13_I)*phi3 \n",
    "    g6 = 2*(l[27]*phi23_R - l[28]*phi23_I)*phi1 + 2*(l[29]*phi23_R - l[30]*phi23_I)*phi2 + 2*(l[31]*phi23_R - l[32]*phi23_I)*phi3 \n",
    "    g7 = 2*(l[33]*(phi12_R*phi13_R - phi12_I*phi13_I) - l[34]*(phi12_R*phi13_I + phi12_I*phi13_R )) + 2*(l[35]*(phi23_R*phi12_R + phi23_I*phi12_I) - l[36]*(-phi23_R*phi12_I + phi23_I*phi12_R ))\n",
    "    g8 = 2*(l[37]*(phi13_R*phi23_R - phi13_I*phi23_I) + l[38]*(phi13_R*phi23_I + phi13_I*phi23_R )) + 2*(l[39]*(phi12_R*phi13_R + phi12_I*phi13_I) - l[40]*(-phi12_R*phi13_I + phi12_I*phi13_R ))\n",
    "    g9 = 2*(l[41]*(phi23_R*phi12_R - phi23_I*phi12_I) - l[42]*(phi23_R*phi12_I + phi23_I*phi12_R )) + 2*(l[43]*(phi13_R*phi23_R + phi13_I*phi23_I) - l[44]*(phi13_R*phi23_I - phi13_I*phi23_R))\n",
    "    \n",
    "    \n",
    "    return g1+g2+g3+g4+g5+g6+g7+g8+g9"
   ]
  },
  {
   "cell_type": "code",
   "execution_count": 6,
   "metadata": {
    "execution": {
     "iopub.execute_input": "2024-04-09T21:09:05.989804Z",
     "iopub.status.busy": "2024-04-09T21:09:05.988928Z",
     "iopub.status.idle": "2024-04-09T21:09:06.041746Z",
     "shell.execute_reply": "2024-04-09T21:09:06.040015Z",
     "shell.execute_reply.started": "2024-04-09T21:09:05.989760Z"
    }
   },
   "outputs": [],
   "source": [
    "@njit(cache = True)\n",
    "def v4(x,l):\n",
    "    t,a,b,y,d,e,n = x[0], x[1], x[2], x[3], x[4], x[5], x[6]\n",
    "    \n",
    "    phi1 = c(t)**2 + (s(t)*c(a))**2 \n",
    "    phi2 = (s(t)*s(a)*s(b)*s(y))**2\n",
    "    phi3 = (s(t)*s(a))**2*(c(b)**2 + (s(b)*c(y))**2)\n",
    "    phi12_R = 1/2*(s(b)*s(y)*(s(2*t)*s(a)*c(d) + s(t)**2*s(2*a)*s(d)*s(e)*c(n)))\n",
    "    phi12_I = 1/2*(s(b)*s(y)*s(d)*(s(2*t)*s(a)*c(e) + s(t)**2*s(2*a)*s(e)*s(n))) \n",
    "    phi13_R = 1/2*s(t)**2*s(2*a)*c(b)\n",
    "    phi13_I = 1/2*s(t)**2*s(2*a)*s(b)*c(y)\n",
    "    phi23_R = 1/2*(s(t)*s(a))**2*s(d)*s(e)*(s(2*b)*s(y)*c(n) + s(b)**2*s(2*y)*s(n))\n",
    "    phi23_I = 1/2*(s(t)*s(a))**2*s(d)*s(e)*(s(2*b)*s(y)*s(n) - s(b)**2*s(2*y)*c(n))\n",
    "    \n",
    "    \n",
    "    g1 = 1/2*l[0]*phi1**2 + 1/2*l[1]*phi2**2 + 1/2*l[2]*phi3**2 + l[3]*phi1*phi2 + l[4]*phi1*phi3 + l[5]*phi2*phi3\n",
    "    g2 = l[6]*(phi12_R**2 + phi12_I**2) + l[7]*(phi13_R**2 + phi13_I**2) + l[8]*(phi23_R**2 + phi23_I**2)\n",
    "    g3 = (l[9]*(phi12_R**2 - phi12_I**2) - 2*l[10]*phi12_R*phi12_I) + (l[11]*(phi13_R**2 - phi13_I**2) - 2*l[12]*phi13_R*phi13_I) + (l[13]*(phi23_R**2 - phi23_I**2) - 2*l[14]*phi23_R*phi23_I)\n",
    "    g4 = 2*(l[15]*phi12_R - l[16]*phi12_I)*phi1 + 2*(l[17]*phi12_R - l[18]*phi12_I)*phi2 + 2*(l[19]*phi12_R - l[20]*phi12_I)*phi3 \n",
    "    g5 = 2*(l[21]*phi13_R - l[22]*phi13_I)*phi1 + 2*(l[23]*phi13_R - l[24]*phi13_I)*phi2 + 2*(l[25]*phi13_R - l[26]*phi13_I)*phi3 \n",
    "    g6 = 2*(l[27]*phi23_R - l[28]*phi23_I)*phi1 + 2*(l[29]*phi23_R - l[30]*phi23_I)*phi2 + 2*(l[31]*phi23_R - l[32]*phi23_I)*phi3 \n",
    "    g7 = 2*(l[33]*(phi12_R*phi13_R - phi12_I*phi13_I) - l[34]*(phi12_R*phi13_I + phi12_I*phi13_R )) + 2*(l[35]*(phi23_R*phi12_R + phi23_I*phi12_I) - l[36]*(-phi23_R*phi12_I + phi23_I*phi12_R ))\n",
    "    g8 = 2*(l[37]*(phi13_R*phi23_R - phi13_I*phi23_I) + l[38]*(phi13_R*phi23_I + phi13_I*phi23_R )) + 2*(l[39]*(phi12_R*phi13_R + phi12_I*phi13_I) - l[40]*(-phi12_R*phi13_I + phi12_I*phi13_R ))\n",
    "    g9 = 2*(l[41]*(phi23_R*phi12_R - phi23_I*phi12_I) - l[42]*(phi23_R*phi12_I + phi23_I*phi12_R )) + 2*(l[43]*(phi13_R*phi23_R + phi13_I*phi23_I) - l[44]*(phi13_R*phi23_I - phi13_I*phi23_R))\n",
    "    \n",
    "    \n",
    "    return g1+g2+g3+g4+g5+g6+g7+g8+g9"
   ]
  },
  {
   "cell_type": "markdown",
   "metadata": {},
   "source": [
    "The Stochastic Local Search Algorithm"
   ]
  },
  {
   "cell_type": "code",
   "execution_count": 7,
   "metadata": {
    "execution": {
     "iopub.execute_input": "2024-04-09T21:09:06.044046Z",
     "iopub.status.busy": "2024-04-09T21:09:06.043570Z",
     "iopub.status.idle": "2024-04-09T21:09:06.076484Z",
     "shell.execute_reply": "2024-04-09T21:09:06.074920Z",
     "shell.execute_reply.started": "2024-04-09T21:09:06.043994Z"
    }
   },
   "outputs": [],
   "source": [
    "@njit(cache = True)\n",
    "def mid_search(f,l,x,y,s_m = 0.5):\n",
    "    #initailization\n",
    "    E = np.zeros((2,7))\n",
    "    best, best_eval, k = x,y,0\n",
    "    \n",
    "    #ADD\n",
    "    x1 = x + np.random.uniform(-0.0005, 0.0005, size = 7)\n",
    "    x2 = x + np.random.uniform(-0.0005, 0.0005, size = 7)\n",
    "\n",
    "    delta_f = np.array([f(x1,l)-y,f(x2,l)-y])\n",
    "    w = delta_f/np.sum(np.abs(delta_f))\n",
    "    E[0],E[1] = x1-x,x2-x\n",
    "    e = -E/np.sqrt(np.sum(E*E))\n",
    "    \n",
    "    v = w[0]*e[0]+w[1]*e[1]\n",
    "    \n",
    "    for i in range(1000):\n",
    "        if k == 1 or s_m < 0.1:\n",
    "            break\n",
    "        \n",
    "        #Descent\n",
    "        step = np.random.uniform(0,s_m)\n",
    "        c = x + step*v\n",
    "        y_c = f(c,l)\n",
    "        \n",
    "        if y_c < 0:\n",
    "            k = 1\n",
    "        elif y_c < best_eval:\n",
    "            best,best_eval = c,y_c\n",
    "            x,y = c,y_c\n",
    "        else:\n",
    "        \n",
    "            #ADD\n",
    "            x1 = x + np.random.uniform(-0.0005, 0.0005, size = 7)\n",
    "            x2 = x + np.random.uniform(-0.0005, 0.0005, size = 7)\n",
    "    \n",
    "            delta_f = np.array([f(x1,l)-y,f(x2,l)-y])\n",
    "            w = delta_f/np.sum(np.abs(delta_f))\n",
    "            E[0],E[1] = x1-x,x2-x\n",
    "            e = -E/np.sqrt(np.sum(E*E))\n",
    "            \n",
    "            v = w[0]*e[0]+w[1]*e[1]\n",
    "            \n",
    "            #Descent\n",
    "            step = np.random.uniform(0,s_m)\n",
    "            c = x + step*v\n",
    "            y_c = f(c,l)\n",
    "            \n",
    "            if y_c < 0:\n",
    "                k = 1\n",
    "            elif y_c < best_eval:\n",
    "                best,best_eval = c,y_c\n",
    "                x,y = c,y_c\n",
    "            else:\n",
    "                #update step\n",
    "                s_m = s_m/1.05\n",
    "                       \n",
    "    return (k,best,best_eval)"
   ]
  },
  {
   "cell_type": "markdown",
   "metadata": {},
   "source": [
    "The Global Optimization Algorithm"
   ]
  },
  {
   "cell_type": "code",
   "execution_count": 8,
   "metadata": {
    "execution": {
     "iopub.execute_input": "2024-04-09T21:09:06.079951Z",
     "iopub.status.busy": "2024-04-09T21:09:06.079371Z",
     "iopub.status.idle": "2024-04-09T21:09:06.112545Z",
     "shell.execute_reply": "2024-04-09T21:09:06.111025Z",
     "shell.execute_reply.started": "2024-04-09T21:09:06.079907Z"
    }
   },
   "outputs": [],
   "source": [
    "def Minimization(f,l, tolerance, ste, T, zmax):\n",
    "    #initial parameters\n",
    "    T0 = T\n",
    "    step = ste\n",
    "    k = 0\n",
    "    diff = 100\n",
    "    l1 = (1,l)\n",
    "    l1= l1[1:]\n",
    "    rng = default_rng()\n",
    "    \n",
    "    #necessary conditions\n",
    "    if  l[0] < 0 or l[1] < 0 or l[2] < 0:\n",
    "        k = 1\n",
    "    elif l[3] < -math.sqrt(l[0]*l[1]) or l[4] < -math.sqrt(l[0]*l[2]) or l[5] < -math.sqrt(l[1]*l[2]):\n",
    "        k = 1\n",
    "      \n",
    "    # generate an initial point\n",
    "    best = rng.random(size = 7)*2*pi         \n",
    "    # evaluate the initial point\n",
    "    best_eval = f(best,l)\n",
    "    # current working solution\n",
    "    curr, curr_eval = best, best_eval\n",
    "    best_min, best_eval_min = best,best_eval\n",
    "    \n",
    "    if best_eval < 0:\n",
    "        k = 1\n",
    "        \n",
    "    else:\n",
    "        # run the algorithm\n",
    "        for z in range(zmax):\n",
    "            if k == 1:\n",
    "                break\n",
    "                   \n",
    "            for i in range(100):\n",
    "                if k == 1 or abs(diff) < tolerance:\n",
    "                    break\n",
    "                              \n",
    "                # take a step\n",
    "                candidate = (curr + rng.normal(loc = 0, scale = step, size = 7))%(2*pi)\n",
    "                # evaluate candidate point\n",
    "                candidate_eval = f(candidate,l)\n",
    "                if candidate_eval < 0:\n",
    "                    k = 1\n",
    "                #check for new best solution\n",
    "                else:\n",
    "                    if candidate_eval < best_eval:\n",
    "                        best, best_eval = candidate, candidate_eval\n",
    "                        #calculate temperatute for current epoch\n",
    "                        if T0 > 0.1:\n",
    "                            T0 = T0 /(1+((T0**0.5)*math.log(1.5))/(3*step))        \n",
    "                   \n",
    "                        \n",
    "                #difference between candidate and current point evaluation\n",
    "                diff = candidate_eval - curr_eval\n",
    "                # calculate metropolis acceptance criterion\n",
    "                metropolis = exp(-diff / T0)\n",
    "                # check if we should keep the new point\n",
    "                if diff < 0 or rng.random() < metropolis:\n",
    "                    curr, curr_eval = candidate, candidate_eval\n",
    "                    \n",
    "                    if i > 20:\n",
    "                        k,candidate,candidate_eval = mid_search(f,l,curr,curr_eval)\n",
    "                        \n",
    "                        if candidate_eval < 0:\n",
    "                            k = 1\n",
    "                            \n",
    "                        elif candidate_eval < curr_eval:\n",
    "                            curr, curr_eval = candidate, candidate_eval\n",
    "                            \n",
    "                        if candidate_eval < best_eval:\n",
    "                            best, best_eval = candidate, candidate_eval\n",
    "                            #calculate temperatute for current epoch\n",
    "                            if T0 > 0.1:\n",
    "                                T0 = T0 /(1+((T0**0.5)*math.log(1.5))/(3*step))\n",
    "                                \n",
    "               \n",
    "                #calculate the step for the current epoch\n",
    "                if step > 0.1:\n",
    "                    step = step/1.02\n",
    "          \n",
    "            if k == 0:\n",
    "                res = minimize(f, best, args=l1, tol = tolerance, method = \"COBYLA\", \n",
    "                options = {'rhobeg': 0.5})\n",
    "                    \n",
    "                if res.fun < 0:\n",
    "                      k = 1\n",
    "                elif res.fun < best_eval_min:\n",
    "                     best_min,best_eval_min = res.x, res.fun\n",
    "                      \n",
    "            #restart\n",
    "            diff = 100\n",
    "            T0 = T\n",
    "            step = ste\n",
    "            \n",
    "            # generate an initial point\n",
    "            curr = rng.random(size = 7)*2*pi\n",
    "            #evaluate initial point\n",
    "            curr_eval = f(curr,l)\n",
    "            # generate a best point\n",
    "            best = rng.random(size = 7)*2*pi\n",
    "            #evaluate best point\n",
    "            best_eval = f(best,l) \n",
    "        \n",
    "        \n",
    "            if curr_eval < 0 or best_eval < 0:\n",
    "                k = 1  \n",
    "    \n",
    "    if k == 0:\n",
    "        res = minimize(f, best_min, args=l1, tol = tolerance, method = \"COBYLA\", \n",
    "        options = {'rhobeg': 0.5})\n",
    "            \n",
    "        if res.fun < 0:\n",
    "              k = 1\n",
    "                         \n",
    "    l = np.append(l,k)\n",
    "                                                                          \n",
    "    return l"
   ]
  },
  {
   "cell_type": "markdown",
   "metadata": {},
   "source": [
    "Adjustable parameters"
   ]
  },
  {
   "cell_type": "markdown",
   "metadata": {
    "execution": {
     "iopub.execute_input": "2024-04-13T20:48:42.915500Z",
     "iopub.status.busy": "2024-04-13T20:48:42.914595Z",
     "iopub.status.idle": "2024-04-13T20:48:42.952746Z",
     "shell.execute_reply": "2024-04-13T20:48:42.949927Z",
     "shell.execute_reply.started": "2024-04-13T20:48:42.915424Z"
    }
   },
   "source": [
    "Runs the algorithm"
   ]
  },
  {
   "cell_type": "code",
   "execution_count": null,
   "metadata": {
    "execution": {
     "iopub.execute_input": "2024-04-09T21:09:06.329951Z",
     "iopub.status.busy": "2024-04-09T21:09:06.329510Z"
    },
    "tags": []
   },
   "outputs": [],
   "source": [
    "lista, lista2 = [],[]\n",
    "\n",
    "data = np.loadtxt(txt, dtype = float)\n",
    "\n",
    "for i in data:\n",
    "    lista.append(i)\n",
    "\n",
    "results = Parallel(n_jobs = -1)(delayed(Minimization)(v,j,tol,3,100,res) for j in lista)\n",
    "lista.clear()\n",
    "    \n",
    "for r in results:\n",
    "    if r[45] == 0:\n",
    "        lista.append(r[:45])\n",
    "    else:\n",
    "        lista2.append(r)\n",
    "            \n",
    "    \n",
    "results2 = Parallel(n_jobs = -1)(delayed(Minimization)(v2,j,tol,3,100,res) for j in lista)\n",
    "lista.clear()\n",
    "\n",
    "for r in results2:\n",
    "    if r[45] == 0:\n",
    "        lista.append(r[:45])\n",
    "    else:\n",
    "        lista2.append(r)\n",
    "\n",
    "            \n",
    "results3 = Parallel(n_jobs = -1)(delayed(Minimization)(v3,j,tol,3,100,res) for j in lista)\n",
    "lista.clear()\n",
    "\n",
    "for r in results3:\n",
    "    if r[45] == 0:\n",
    "        lista.append(r[:45])\n",
    "    else:\n",
    "        lista2.append(r)\n",
    "            \n",
    "            \n",
    "results4 = Parallel(n_jobs = -1)(delayed(Minimization)(v4,j,tol,3,100,res) for j in lista)\n",
    "lista.clear()\n",
    "\n",
    "for r in results4:\n",
    "    if r[45] == 0:\n",
    "        lista.append(r)\n",
    "    else:\n",
    "        lista2.append(r)\n",
    "        \n",
    "lista3 = lista1+lista2\n",
    "\n",
    "np.savetxt(output, np.array(lista3))\n",
    "\n",
    "lista.clear()   \n",
    "lista2.clear()\n",
    "lista3.clear()"
   ]
  },
  {
   "cell_type": "code",
   "execution_count": null,
   "metadata": {
    "tags": []
   },
   "outputs": [],
   "source": []
  },
  {
   "cell_type": "code",
   "execution_count": null,
   "metadata": {
    "tags": []
   },
   "outputs": [],
   "source": []
  },
  {
   "cell_type": "code",
   "execution_count": null,
   "metadata": {
    "tags": []
   },
   "outputs": [],
   "source": []
  },
  {
   "cell_type": "code",
   "execution_count": null,
   "metadata": {},
   "outputs": [],
   "source": []
  }
 ],
 "metadata": {
  "kernelspec": {
   "display_name": "Python 3 (ipykernel)",
   "language": "python",
   "name": "python3"
  },
  "language_info": {
   "codemirror_mode": {
    "name": "ipython",
    "version": 3
   },
   "file_extension": ".py",
   "mimetype": "text/x-python",
   "name": "python",
   "nbconvert_exporter": "python",
   "pygments_lexer": "ipython3",
   "version": "3.11.4"
  }
 },
 "nbformat": 4,
 "nbformat_minor": 4
}
